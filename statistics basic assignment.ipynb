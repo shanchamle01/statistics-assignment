{
 "cells": [
  {
   "cell_type": "code",
   "execution_count": 1,
   "id": "54bc745c-e0da-4016-9056-6c4a91e151e8",
   "metadata": {},
   "outputs": [],
   "source": [
    "#q.1\n",
    "\n",
    "#STATISTICS:statistics is the science of collecting ,organizing and analyzing data. "
   ]
  },
  {
   "cell_type": "code",
   "execution_count": 2,
   "id": "bfb0eff8-7b33-4799-98f2-602af3cd6102",
   "metadata": {},
   "outputs": [],
   "source": [
    "#q.2\n",
    "#TYPES OF STATISTICS:\n",
    "#1] descriptive statistics:it is way of organizing ,summarizing,presenting and explaining set of data using graphs and summary measuring.\n",
    "    # mean,median,mode\n",
    "#eg:avg. marks of students\n",
    "#2]inferential statistics:it consist of using descriptive  data you have measured from conclusion.\n",
    "    #eg:sample of state population to measured vote sharing in exit polls ."
   ]
  },
  {
   "cell_type": "code",
   "execution_count": 4,
   "id": "0e5a2502-9e62-4b30-bc51-0ec7ed8d172b",
   "metadata": {},
   "outputs": [],
   "source": [
    "#q.3\n",
    "#TYPES OF DATA:\n",
    "#1]QUANTITATIVE DATA:the data collected on the grounds of the numerical variable are quantitative data.eg:survey search,experimental\n",
    "#2]QUALITATIVE DATA:the data collected on the ground of categorical variables are qualitative data.eg;case study,ground theory."
   ]
  },
  {
   "cell_type": "code",
   "execution_count": 5,
   "id": "065f8f24-fba5-41e2-a494-2039642090ac",
   "metadata": {},
   "outputs": [],
   "source": [
    "#q.4 \n",
    "#quantitative analysis:\n",
    "#(i) Grading in exam: A+, A, B+, B, C+, C, D, E\n",
    "#(ii) Colour of mangoes: yellow, green, orange, red.\n",
    "\n",
    "#qualitative analysis:\n",
    "#(iii) Height data of a class: [178.9, 179, 179.5, 176, 177.2, 178.3, 175.8,...]\n",
    "#(iv) Number of mangoes exported by a farm: [500, 600, 478, 672, ...]\n"
   ]
  },
  {
   "cell_type": "code",
   "execution_count": 6,
   "id": "4511560a-fe9a-4022-a7b9-5d4ed853859a",
   "metadata": {},
   "outputs": [],
   "source": [
    "#q.5 \n",
    "#types of levels of measurement:\n",
    "#1] nominal scale data:it can be placed into categories.these don't have a numeric value ans so, it cannot be added,subtracted,multiplied.\n",
    "#    eg:gender,colors\n",
    "#2]ordinal scale data:it contains things that you can placed in order.it measures a variables in terms of magnitude or rank.\n",
    " #     ex:race between two people.\n",
    "#3]interval scale data:\n",
    "#interval scale data contains thing placed in orderthe magnitude between two consecutive interval is equal.\n",
    "#properties:\n",
    "#identity,magnitude,equal distance\n",
    "#eg:temperature variable\n",
    "#4]ratio scale data:\n",
    "#in this ratio scale data order matter.in this data differences are measured (including ratio).it contains 'O' starting point.\n",
    "#eg:length of rivers ,IQ measurement."
   ]
  },
  {
   "cell_type": "code",
   "execution_count": 7,
   "id": "274809fb-c249-41c5-90bc-3de92ffdd08c",
   "metadata": {},
   "outputs": [],
   "source": [
    "#q.6 \n",
    "#to analyze and design data in proper way.there are some properties which anlyze the data in scale of measurements.\n",
    "#such as.\n",
    "#1.idnetity:each value on the measurement scale has unique meaning.\n",
    "#2.magnitude:values on the measurement scale have an order relationship to one another.\n",
    "#3.equal intervals:scale units along the scale are equal to one another.\n",
    "#4.a minimum value of zero:the scale has a true zero point,below which no value exist."
   ]
  },
  {
   "cell_type": "code",
   "execution_count": 8,
   "id": "57bccdc5-055b-490e-9615-619564b3aced",
   "metadata": {},
   "outputs": [],
   "source": [
    "#q.7\n",
    "#1] nominal scale data:it can be placed into categories.these don't have a numeric value ans so, it cannot be added,subtracted,multiplied.\n",
    "#    eg:gender,colors\n",
    "#2]ordinal scale data:it contains things that you can placed in order.it measures a variables in terms of magnitude or rank.\n",
    " #     ex:race between two people."
   ]
  },
  {
   "cell_type": "code",
   "execution_count": 9,
   "id": "a3fcc4c1-630d-48fe-ad4d-86baacdb7020",
   "metadata": {},
   "outputs": [],
   "source": [
    "#q.8\n",
    "#histogram plot can be used to display data in terms of range."
   ]
  },
  {
   "cell_type": "code",
   "execution_count": 10,
   "id": "eebde78f-fbe7-4e16-bd0e-b024904c3c12",
   "metadata": {},
   "outputs": [],
   "source": [
    "#q.9\n",
    "#descriptive statistics:1]descriptive statistics consist of organizing and summerizing data.\n",
    "#2]It gives information about raw data which describes the data in some manner.\n",
    "#3]It can be achieved with the help of charts, graphs, tables, etc.\n",
    "\n",
    "#inferential statistics:\n",
    "#1]It allows us to compare data, and make hypotheses and predictions.\n",
    "#2]It makes inferences about the population using data drawn from the population.\n",
    "#3]It can be achieved by probability.\n"
   ]
  },
  {
   "cell_type": "code",
   "execution_count": null,
   "id": "3d87bf70-19c3-4177-a655-6b358b172ebe",
   "metadata": {},
   "outputs": [],
   "source": [
    "#q.10\n",
    "#Measure of central tendency:\n",
    "#1]mean or average: it can be defined as the sum of the individual observations (xi) divided by the total number of observations N. In other words, the mean is given by the sum of all observations divided by the total number of observations.\n",
    "#2]median:The Median of any distribution is that value that divides the distribution into two equal parts such that the number of observations above it is equal to the number of observations below it. Thus, the median is called the central value of any given data either grouped or ungrouped.\n",
    "\n",
    "#3]mode:The Mode is the value of that observation which has a maximum frequency corresponding to it. "
   ]
  }
 ],
 "metadata": {
  "kernelspec": {
   "display_name": "Python 3 (ipykernel)",
   "language": "python",
   "name": "python3"
  },
  "language_info": {
   "codemirror_mode": {
    "name": "ipython",
    "version": 3
   },
   "file_extension": ".py",
   "mimetype": "text/x-python",
   "name": "python",
   "nbconvert_exporter": "python",
   "pygments_lexer": "ipython3",
   "version": "3.11.4"
  }
 },
 "nbformat": 4,
 "nbformat_minor": 5
}
